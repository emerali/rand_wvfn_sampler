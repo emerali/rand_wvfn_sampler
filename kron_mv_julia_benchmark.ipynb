{
 "cells": [
  {
   "cell_type": "code",
   "execution_count": 1,
   "metadata": {},
   "outputs": [],
   "source": [
    "using LinearAlgebra\n",
    "using BenchmarkTools"
   ]
  },
  {
   "cell_type": "code",
   "execution_count": 2,
   "metadata": {},
   "outputs": [
    {
     "data": {
      "text/plain": [
       "kron_mv (generic function with 1 method)"
      ]
     },
     "execution_count": 2,
     "metadata": {},
     "output_type": "execute_result"
    }
   ],
   "source": [
    "function kron_mv(x::Array{T, 1}, matrices::Array{T, 2}...) where T<:Number\n",
    "    m = reduce(kron, matrices)\n",
    "    return m * x\n",
    "end"
   ]
  },
  {
   "cell_type": "code",
   "execution_count": 3,
   "metadata": {},
   "outputs": [
    {
     "data": {
      "text/plain": [
       "kron_mv_low_mem (generic function with 1 method)"
      ]
     },
     "execution_count": 3,
     "metadata": {},
     "output_type": "execute_result"
    }
   ],
   "source": [
    "function kron_mv_low_mem(x::Array{T, 1}, matrices::Array{T, 2}...) where T<:Number\n",
    "    n = [size(m, 1) for m in matrices]\n",
    "    l = prod(n)\n",
    "    r = 1\n",
    "    \n",
    "    V = copy(x)\n",
    "    \n",
    "    for s in size(n, 1):-1:1\n",
    "        l ÷= n[s]\n",
    "        m = matrices[s]\n",
    "        for k in 1:l, i in 1:r\n",
    "            slc = (((k-1) * n[s])*r + i):r:(((k * n[s]) - 1)*r + i)\n",
    "            V[slc] = m * V[slc]\n",
    "        end\n",
    "        r *= n[s]\n",
    "    end\n",
    "    \n",
    "    return V\n",
    "end"
   ]
  },
  {
   "cell_type": "code",
   "execution_count": 4,
   "metadata": {},
   "outputs": [],
   "source": [
    "num_sites = 6\n",
    "local_dim = 4\n",
    "\n",
    "matrices = [rand(ComplexF64, (local_dim, local_dim)) for _ in 1:num_sites]\n",
    "\n",
    "v = rand(ComplexF64, local_dim ^ num_sites)\n",
    "v /= sqrt(real(v' * v));"
   ]
  },
  {
   "cell_type": "code",
   "execution_count": 5,
   "metadata": {},
   "outputs": [
    {
     "data": {
      "text/plain": [
       "BenchmarkTools.Trial: \n",
       "  memory estimate:  273.13 MiB\n",
       "  allocs estimate:  15\n",
       "  --------------\n",
       "  minimum time:     137.822 ms (14.71% GC)\n",
       "  median time:      156.726 ms (9.51% GC)\n",
       "  mean time:        161.509 ms (11.97% GC)\n",
       "  maximum time:     214.196 ms (37.20% GC)\n",
       "  --------------\n",
       "  samples:          31\n",
       "  evals/sample:     1"
      ]
     },
     "execution_count": 5,
     "metadata": {},
     "output_type": "execute_result"
    }
   ],
   "source": [
    "@benchmark kron_mv(v, matrices...)"
   ]
  },
  {
   "cell_type": "code",
   "execution_count": 6,
   "metadata": {},
   "outputs": [
    {
     "data": {
      "text/plain": [
       "BenchmarkTools.Trial: \n",
       "  memory estimate:  2.63 MiB\n",
       "  allocs estimate:  54607\n",
       "  --------------\n",
       "  minimum time:     3.183 ms (0.00% GC)\n",
       "  median time:      3.303 ms (0.00% GC)\n",
       "  mean time:        3.653 ms (6.38% GC)\n",
       "  maximum time:     54.949 ms (93.06% GC)\n",
       "  --------------\n",
       "  samples:          1365\n",
       "  evals/sample:     1"
      ]
     },
     "execution_count": 6,
     "metadata": {},
     "output_type": "execute_result"
    }
   ],
   "source": [
    "@benchmark kron_mv_low_mem(v, matrices...)"
   ]
  },
  {
   "cell_type": "code",
   "execution_count": 8,
   "metadata": {},
   "outputs": [
    {
     "data": {
      "text/plain": [
       "true"
      ]
     },
     "execution_count": 8,
     "metadata": {},
     "output_type": "execute_result"
    }
   ],
   "source": [
    "isapprox(\n",
    "    kron_mv(v, matrices...),\n",
    "    kron_mv_low_mem(v, matrices...)\n",
    ")"
   ]
  }
 ],
 "metadata": {
  "kernelspec": {
   "display_name": "Julia 1.0.3",
   "language": "julia",
   "name": "julia-1.0"
  },
  "language_info": {
   "file_extension": ".jl",
   "mimetype": "application/julia",
   "name": "julia",
   "version": "1.0.3"
  }
 },
 "nbformat": 4,
 "nbformat_minor": 2
}
