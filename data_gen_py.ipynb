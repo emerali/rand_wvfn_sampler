{
 "cells": [
  {
   "cell_type": "code",
   "execution_count": 1,
   "metadata": {},
   "outputs": [
    {
     "name": "stdout",
     "output_type": "stream",
     "text": [
      "importing Jupyter notebook from kron_mv_python_benchmark.ipynb\n",
      "540 ms ± 12 ms per loop (mean ± std. dev. of 7 runs, 1 loop each)\n",
      "10.2 ms ± 506 µs per loop (mean ± std. dev. of 7 runs, 100 loops each)\n"
     ]
    }
   ],
   "source": [
    "import numpy as np\n",
    "from tqdm import tqdm\n",
    "\n",
    "from qucumber.utils import unitaries\n",
    "\n",
    "import import_ipynb\n",
    "from kron_mv_python_benchmark import kron_mv_low_mem"
   ]
  },
  {
   "cell_type": "code",
   "execution_count": 2,
   "metadata": {},
   "outputs": [],
   "source": [
    "def generate_hilbert_space(size):\n",
    "    dim = np.arange(2 ** size)\n",
    "    space = (((dim[:, None] & (1 << np.arange(size)))) > 0)[:, ::-1]\n",
    "    space = space.astype(int)\n",
    "    return space"
   ]
  },
  {
   "cell_type": "code",
   "execution_count": 3,
   "metadata": {},
   "outputs": [],
   "source": [
    "def convert_torch_cplx(tensor):\n",
    "    real_part = tensor[0].cpu().detach().numpy()\n",
    "    imag_part = tensor[1].cpu().detach().numpy()\n",
    "    \n",
    "    return real_part + (1j * imag_part)"
   ]
  },
  {
   "cell_type": "code",
   "execution_count": 4,
   "metadata": {},
   "outputs": [],
   "source": [
    "unitary_dict = {k: convert_torch_cplx(v) for k, v in unitaries.create_dict().items()}"
   ]
  },
  {
   "cell_type": "code",
   "execution_count": 5,
   "metadata": {},
   "outputs": [],
   "source": [
    "def rotate_psi(N, psi, basis, unitary_dict, vis):\n",
    "    return kron_mv_low_mem(psi, *[unitary_dict[b] for b in basis])"
   ]
  },
  {
   "cell_type": "code",
   "execution_count": 6,
   "metadata": {},
   "outputs": [],
   "source": [
    "def get_psi_from_sample(v, psi):\n",
    "    index = int(\"\".join(str(i) for i in v), base=2)\n",
    "    return psi[index]"
   ]
  },
  {
   "cell_type": "code",
   "execution_count": 7,
   "metadata": {},
   "outputs": [],
   "source": [
    "def get_samples_from_psi_indices(indices, num_sites):\n",
    "    return (((indices[:, None] & (1 << np.arange(num_sites)))) > 0)[:, ::-1].astype(int)"
   ]
  },
  {
   "cell_type": "code",
   "execution_count": 8,
   "metadata": {},
   "outputs": [],
   "source": [
    "from itertools import product\n",
    "def gen_all_bases(unitary_dict, num_sites):\n",
    "    local_bases = unitary_dict.keys()\n",
    "    return list(\"\".join(i) for i in product(local_bases, repeat=num_sites))"
   ]
  },
  {
   "cell_type": "code",
   "execution_count": 9,
   "metadata": {},
   "outputs": [],
   "source": [
    "def gen_samples(num_samples, num_sites, psi, basis, unitary_dict, vis):\n",
    "    psi_r = rotate_psi(num_sites, psi, basis, unitary_dict, vis)\n",
    "    \n",
    "    probs = (psi_r.conj() * psi_r).real\n",
    "    \n",
    "    indices = np.random.choice(len(probs), size=num_samples, p=probs)\n",
    "    return get_samples_from_psi_indices(indices, num_sites)"
   ]
  },
  {
   "cell_type": "code",
   "execution_count": 10,
   "metadata": {},
   "outputs": [],
   "source": [
    "def gen_data(num_sites, num_samples_per_basis, unitary_dict, seed):\n",
    "    np.random.seed(seed)\n",
    "    \n",
    "    size = 2 ** num_sites\n",
    "\n",
    "    vis = generate_hilbert_space(num_sites)\n",
    "\n",
    "    psi = np.random.randn(size) + 1j*np.random.randn(size) # gen rand wvfn\n",
    "    psi /= np.sqrt((np.dot(psi.conj(), psi)).real)         # normalize\n",
    "    \n",
    "    all_bases = gen_all_bases(unitary_dict, num_sites)\n",
    "    \n",
    "    tr_bases = np.zeros((len(all_bases), num_sites), dtype=str)\n",
    "    samples = np.zeros((len(all_bases), num_samples_per_basis, num_sites), dtype=int)\n",
    "    \n",
    "    for i, basis in enumerate(tqdm(all_bases)):\n",
    "        tr_bases[i, :] = np.array(list(basis))\n",
    "        samples[i, :, :] = gen_samples(num_samples_per_basis, num_sites, psi, basis, unitary_dict, vis)\n",
    "        \n",
    "    tr_bases = np.repeat(tr_bases[:, None, :], num_samples_per_basis, axis=1).reshape(-1, num_sites)\n",
    "    samples = samples.reshape(-1, num_sites)\n",
    "    \n",
    "    all_bases = np.array(list(map(list, all_bases)))\n",
    "    \n",
    "    return all_bases, tr_bases, samples, psi"
   ]
  },
  {
   "cell_type": "code",
   "execution_count": 11,
   "metadata": {},
   "outputs": [
    {
     "name": "stderr",
     "output_type": "stream",
     "text": [
      "100%|██████████| 6561/6561 [00:11<00:00, 577.00it/s]\n"
     ]
    }
   ],
   "source": [
    "all_bases, tr_bases, samples, psi = gen_data(8, 200, unitary_dict, 161)"
   ]
  },
  {
   "cell_type": "code",
   "execution_count": 12,
   "metadata": {},
   "outputs": [],
   "source": [
    "np.savetxt(\"8sites/all_bases.txt\", all_bases, fmt='%s')\n",
    "np.savetxt(\"8sites/tr_bases.txt\", tr_bases, fmt='%s')\n",
    "np.savetxt(\"8sites/samples.txt\", samples)\n",
    "np.savetxt(\"8sites/psi.txt\", psi)"
   ]
  }
 ],
 "metadata": {
  "kernelspec": {
   "display_name": "Python 3",
   "language": "python",
   "name": "python3"
  },
  "language_info": {
   "codemirror_mode": {
    "name": "ipython",
    "version": 3
   },
   "file_extension": ".py",
   "mimetype": "text/x-python",
   "name": "python",
   "nbconvert_exporter": "python",
   "pygments_lexer": "ipython3",
   "version": "3.6.6"
  }
 },
 "nbformat": 4,
 "nbformat_minor": 2
}
