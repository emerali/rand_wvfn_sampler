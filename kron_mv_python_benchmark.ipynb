{
 "cells": [
  {
   "cell_type": "code",
   "execution_count": 1,
   "metadata": {},
   "outputs": [],
   "source": [
    "import numpy as np\n",
    "from scipy.stats import unitary_group\n",
    "from functools import reduce"
   ]
  },
  {
   "cell_type": "code",
   "execution_count": 2,
   "metadata": {},
   "outputs": [],
   "source": [
    "def kron_mv(v, *matrices):\n",
    "    m = reduce(np.kron, matrices)\n",
    "    return m.dot(v)"
   ]
  },
  {
   "cell_type": "code",
   "execution_count": 3,
   "metadata": {},
   "outputs": [],
   "source": [
    "num_sites = 6\n",
    "local_dim = 4\n",
    "\n",
    "matrices = [unitary_group.rvs(local_dim) for _ in range(num_sites)]\n",
    "\n",
    "v = np.random.rand(local_dim ** num_sites) + 1j*np.random.rand(local_dim ** num_sites)\n",
    "v /= np.linalg.norm(v)"
   ]
  },
  {
   "cell_type": "code",
   "execution_count": null,
   "metadata": {},
   "outputs": [],
   "source": []
  },
  {
   "cell_type": "code",
   "execution_count": 4,
   "metadata": {},
   "outputs": [],
   "source": [
    "def kron_mv_low_mem(x, *matrices):\n",
    "    n = [m.shape[0] for m in matrices]\n",
    "    l = np.prod(n)\n",
    "    r = 1\n",
    "    V = x.astype(complex)\n",
    "    for s in range(len(n))[::-1]:\n",
    "        l //= n[s]\n",
    "        m = matrices[s]\n",
    "        for k in range(l):\n",
    "            for i in range(r):\n",
    "                slc = slice(\n",
    "                    k*n[s]*r + i,\n",
    "                    (k+1)*n[s]*r + i,\n",
    "                    r,\n",
    "                )\n",
    "                U = V[slc]\n",
    "                V[slc] = np.dot(m, U)\n",
    "                \n",
    "        r *= n[s]\n",
    "    \n",
    "    return V"
   ]
  },
  {
   "cell_type": "code",
   "execution_count": 5,
   "metadata": {},
   "outputs": [
    {
     "name": "stdout",
     "output_type": "stream",
     "text": [
      "567 ms ± 25.3 ms per loop (mean ± std. dev. of 7 runs, 1 loop each)\n"
     ]
    }
   ],
   "source": [
    "%timeit kron_mv(v, *matrices)"
   ]
  },
  {
   "cell_type": "code",
   "execution_count": 6,
   "metadata": {},
   "outputs": [
    {
     "name": "stdout",
     "output_type": "stream",
     "text": [
      "10.4 ms ± 109 µs per loop (mean ± std. dev. of 7 runs, 100 loops each)\n"
     ]
    }
   ],
   "source": [
    "%timeit kron_mv_low_mem(v, *matrices)"
   ]
  },
  {
   "cell_type": "code",
   "execution_count": 7,
   "metadata": {},
   "outputs": [
    {
     "data": {
      "text/plain": [
       "True"
      ]
     },
     "execution_count": 7,
     "metadata": {},
     "output_type": "execute_result"
    }
   ],
   "source": [
    "np.allclose(\n",
    "    kron_mv(v, *matrices), \n",
    "    kron_mv_low_mem(v, *matrices)\n",
    ")"
   ]
  }
 ],
 "metadata": {
  "kernelspec": {
   "display_name": "Python 3",
   "language": "python",
   "name": "python3"
  },
  "language_info": {
   "codemirror_mode": {
    "name": "ipython",
    "version": 3
   },
   "file_extension": ".py",
   "mimetype": "text/x-python",
   "name": "python",
   "nbconvert_exporter": "python",
   "pygments_lexer": "ipython3",
   "version": "3.6.6"
  }
 },
 "nbformat": 4,
 "nbformat_minor": 2
}
